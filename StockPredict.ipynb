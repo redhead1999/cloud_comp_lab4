{
  "nbformat": 4,
  "nbformat_minor": 0,
  "metadata": {
    "colab": {
      "name": "StockPredict.ipynb",
      "provenance": [],
      "collapsed_sections": [],
      "authorship_tag": "ABX9TyNdI34YH6qMt2AK9+xVZxqy",
      "include_colab_link": true
    },
    "kernelspec": {
      "name": "python3",
      "display_name": "Python 3"
    },
    "language_info": {
      "name": "python"
    }
  },
  "cells": [
    {
      "cell_type": "markdown",
      "metadata": {
        "id": "view-in-github",
        "colab_type": "text"
      },
      "source": [
        "<a href=\"https://colab.research.google.com/github/redhead1999/cloud_comp_lab4/blob/master/StockPredict.ipynb\" target=\"_parent\"><img src=\"https://colab.research.google.com/assets/colab-badge.svg\" alt=\"Open In Colab\"/></a>"
      ]
    },
    {
      "cell_type": "code",
      "metadata": {
        "id": "TmgAByE3Kka7"
      },
      "source": [
        "#install the dependencies\n",
        "import numpy as np\n",
        "import pandas as pd\n",
        "from  sklearn.tree import DecisionTreeRegressor\n",
        "from  sklearn.linear_model import LinearRegression\n",
        "from  sklearn.model_selection import train_test_split\n",
        "import matplotlib.pyplot as plt\n",
        "plt.style.use('bmh')\n"
      ],
      "execution_count": 55,
      "outputs": []
    },
    {
      "cell_type": "code",
      "metadata": {
        "colab": {
          "resources": {
            "http://localhost:8080/nbextensions/google.colab/files.js": {
              "data": "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",
              "ok": true,
              "headers": [
                [
                  "content-type",
                  "application/javascript"
                ]
              ],
              "status": 200,
              "status_text": ""
            }
          },
          "base_uri": "https://localhost:8080/",
          "height": 72
        },
        "id": "AnwPGzXVLqe8",
        "outputId": "383c408e-c348-4888-b009-6481fac461d3"
      },
      "source": [
        "#load the data\n",
        "from google.colab import files\n",
        "uploaded = files.upload()"
      ],
      "execution_count": 90,
      "outputs": [
        {
          "output_type": "display_data",
          "data": {
            "text/html": [
              "\n",
              "     <input type=\"file\" id=\"files-d6bc0f88-6d9a-4776-a2e9-573d158b8666\" name=\"files[]\" multiple disabled\n",
              "        style=\"border:none\" />\n",
              "     <output id=\"result-d6bc0f88-6d9a-4776-a2e9-573d158b8666\">\n",
              "      Upload widget is only available when the cell has been executed in the\n",
              "      current browser session. Please rerun this cell to enable.\n",
              "      </output>\n",
              "      <script src=\"/nbextensions/google.colab/files.js\"></script> "
            ],
            "text/plain": [
              "<IPython.core.display.HTML object>"
            ]
          },
          "metadata": {
            "tags": []
          }
        },
        {
          "output_type": "stream",
          "text": [
            "Saving GOOG.csv to GOOG.csv\n"
          ],
          "name": "stdout"
        }
      ]
    },
    {
      "cell_type": "code",
      "metadata": {
        "colab": {
          "base_uri": "https://localhost:8080/",
          "height": 235
        },
        "id": "yGhLT1aTMN_p",
        "outputId": "c0e67fba-a3c4-4ad7-d872-7370c9e721b6"
      },
      "source": [
        "#store the data into a data feame\n",
        "df = pd.read_csv('GOOG.csv')\n",
        "df.head(6)"
      ],
      "execution_count": 91,
      "outputs": [
        {
          "output_type": "execute_result",
          "data": {
            "text/html": [
              "<div>\n",
              "<style scoped>\n",
              "    .dataframe tbody tr th:only-of-type {\n",
              "        vertical-align: middle;\n",
              "    }\n",
              "\n",
              "    .dataframe tbody tr th {\n",
              "        vertical-align: top;\n",
              "    }\n",
              "\n",
              "    .dataframe thead th {\n",
              "        text-align: right;\n",
              "    }\n",
              "</style>\n",
              "<table border=\"1\" class=\"dataframe\">\n",
              "  <thead>\n",
              "    <tr style=\"text-align: right;\">\n",
              "      <th></th>\n",
              "      <th>Date</th>\n",
              "      <th>Open</th>\n",
              "      <th>High</th>\n",
              "      <th>Low</th>\n",
              "      <th>Close</th>\n",
              "      <th>Adj Close</th>\n",
              "      <th>Volume</th>\n",
              "    </tr>\n",
              "  </thead>\n",
              "  <tbody>\n",
              "    <tr>\n",
              "      <th>0</th>\n",
              "      <td>2020-04-23</td>\n",
              "      <td>1271.550049</td>\n",
              "      <td>1293.310059</td>\n",
              "      <td>1265.670044</td>\n",
              "      <td>1276.310059</td>\n",
              "      <td>1276.310059</td>\n",
              "      <td>1566200</td>\n",
              "    </tr>\n",
              "    <tr>\n",
              "      <th>1</th>\n",
              "      <td>2020-04-24</td>\n",
              "      <td>1261.170044</td>\n",
              "      <td>1280.400024</td>\n",
              "      <td>1249.449951</td>\n",
              "      <td>1279.310059</td>\n",
              "      <td>1279.310059</td>\n",
              "      <td>1639600</td>\n",
              "    </tr>\n",
              "    <tr>\n",
              "      <th>2</th>\n",
              "      <td>2020-04-27</td>\n",
              "      <td>1296.000000</td>\n",
              "      <td>1296.150024</td>\n",
              "      <td>1269.000000</td>\n",
              "      <td>1275.880005</td>\n",
              "      <td>1275.880005</td>\n",
              "      <td>1600600</td>\n",
              "    </tr>\n",
              "    <tr>\n",
              "      <th>3</th>\n",
              "      <td>2020-04-28</td>\n",
              "      <td>1287.930054</td>\n",
              "      <td>1288.050049</td>\n",
              "      <td>1232.199951</td>\n",
              "      <td>1233.670044</td>\n",
              "      <td>1233.670044</td>\n",
              "      <td>2951300</td>\n",
              "    </tr>\n",
              "    <tr>\n",
              "      <th>4</th>\n",
              "      <td>2020-04-29</td>\n",
              "      <td>1341.459961</td>\n",
              "      <td>1359.989990</td>\n",
              "      <td>1325.339966</td>\n",
              "      <td>1341.479980</td>\n",
              "      <td>1341.479980</td>\n",
              "      <td>3793600</td>\n",
              "    </tr>\n",
              "    <tr>\n",
              "      <th>5</th>\n",
              "      <td>2020-04-30</td>\n",
              "      <td>1324.880005</td>\n",
              "      <td>1352.819946</td>\n",
              "      <td>1322.489990</td>\n",
              "      <td>1348.660034</td>\n",
              "      <td>1348.660034</td>\n",
              "      <td>2668900</td>\n",
              "    </tr>\n",
              "  </tbody>\n",
              "</table>\n",
              "</div>"
            ],
            "text/plain": [
              "         Date         Open         High  ...        Close    Adj Close   Volume\n",
              "0  2020-04-23  1271.550049  1293.310059  ...  1276.310059  1276.310059  1566200\n",
              "1  2020-04-24  1261.170044  1280.400024  ...  1279.310059  1279.310059  1639600\n",
              "2  2020-04-27  1296.000000  1296.150024  ...  1275.880005  1275.880005  1600600\n",
              "3  2020-04-28  1287.930054  1288.050049  ...  1233.670044  1233.670044  2951300\n",
              "4  2020-04-29  1341.459961  1359.989990  ...  1341.479980  1341.479980  3793600\n",
              "5  2020-04-30  1324.880005  1352.819946  ...  1348.660034  1348.660034  2668900\n",
              "\n",
              "[6 rows x 7 columns]"
            ]
          },
          "metadata": {
            "tags": []
          },
          "execution_count": 91
        }
      ]
    },
    {
      "cell_type": "code",
      "metadata": {
        "colab": {
          "base_uri": "https://localhost:8080/"
        },
        "id": "2PcYVyAFMfBD",
        "outputId": "a98d5e43-dbfa-404c-978c-38a68278886c"
      },
      "source": [
        "#get the number of trading days\n",
        "df.shape"
      ],
      "execution_count": 92,
      "outputs": [
        {
          "output_type": "execute_result",
          "data": {
            "text/plain": [
              "(253, 7)"
            ]
          },
          "metadata": {
            "tags": []
          },
          "execution_count": 92
        }
      ]
    },
    {
      "cell_type": "code",
      "metadata": {
        "colab": {
          "base_uri": "https://localhost:8080/",
          "height": 513
        },
        "id": "5YDIvImDMsIR",
        "outputId": "74444398-f474-49ff-db7c-68b4cab10bb0"
      },
      "source": [
        "#visualise cloe price data\n",
        "plt.figure(figsize=(16,8))\n",
        "plt.title('Google')\n",
        "plt.xlabel('Days')\n",
        "plt.ylabel('Close Price (USD)')\n",
        "plt.plot(df['Close'])\n",
        "plt.show()"
      ],
      "execution_count": 93,
      "outputs": [
        {
          "output_type": "display_data",
          "data": {
            "image/png": "[encoded data removed]",
            "text/plain": [
              "<Figure size 1152x576 with 1 Axes>"
            ]
          },
          "metadata": {
            "tags": [],
            "needs_background": "light"
          }
        }
      ]
    },
    {
      "cell_type": "code",
      "metadata": {
        "colab": {
          "base_uri": "https://localhost:8080/",
          "height": 173
        },
        "id": "zh_xYLseNQwh",
        "outputId": "f083e724-760e-4f76-c176-33f80a11a9f8"
      },
      "source": [
        "#get the close price\n",
        "df = df[['Close']]\n",
        "df.head(4)"
      ],
      "execution_count": 94,
      "outputs": [
        {
          "output_type": "execute_result",
          "data": {
            "text/html": [
              "<div>\n",
              "<style scoped>\n",
              "    .dataframe tbody tr th:only-of-type {\n",
              "        vertical-align: middle;\n",
              "    }\n",
              "\n",
              "    .dataframe tbody tr th {\n",
              "        vertical-align: top;\n",
              "    }\n",
              "\n",
              "    .dataframe thead th {\n",
              "        text-align: right;\n",
              "    }\n",
              "</style>\n",
              "<table border=\"1\" class=\"dataframe\">\n",
              "  <thead>\n",
              "    <tr style=\"text-align: right;\">\n",
              "      <th></th>\n",
              "      <th>Close</th>\n",
              "    </tr>\n",
              "  </thead>\n",
              "  <tbody>\n",
              "    <tr>\n",
              "      <th>0</th>\n",
              "      <td>1276.310059</td>\n",
              "    </tr>\n",
              "    <tr>\n",
              "      <th>1</th>\n",
              "      <td>1279.310059</td>\n",
              "    </tr>\n",
              "    <tr>\n",
              "      <th>2</th>\n",
              "      <td>1275.880005</td>\n",
              "    </tr>\n",
              "    <tr>\n",
              "      <th>3</th>\n",
              "      <td>1233.670044</td>\n",
              "    </tr>\n",
              "  </tbody>\n",
              "</table>\n",
              "</div>"
            ],
            "text/plain": [
              "         Close\n",
              "0  1276.310059\n",
              "1  1279.310059\n",
              "2  1275.880005\n",
              "3  1233.670044"
            ]
          },
          "metadata": {
            "tags": []
          },
          "execution_count": 94
        }
      ]
    },
    {
      "cell_type": "code",
      "metadata": {
        "colab": {
          "base_uri": "https://localhost:8080/",
          "height": 173
        },
        "id": "PGp8oErdNYIs",
        "outputId": "cf1d4887-8f5d-4489-a129-37739dd6280b"
      },
      "source": [
        "#create the variable to predict the 'x' days out into the futute\n",
        "future_days = 25\n",
        "#create a new column (target) shifted 'x' units/days up\n",
        "df['Prediction'] = df[['Close']].shift(-future_days)\n",
        "df.tail(4)"
      ],
      "execution_count": 95,
      "outputs": [
        {
          "output_type": "execute_result",
          "data": {
            "text/html": [
              "<div>\n",
              "<style scoped>\n",
              "    .dataframe tbody tr th:only-of-type {\n",
              "        vertical-align: middle;\n",
              "    }\n",
              "\n",
              "    .dataframe tbody tr th {\n",
              "        vertical-align: top;\n",
              "    }\n",
              "\n",
              "    .dataframe thead th {\n",
              "        text-align: right;\n",
              "    }\n",
              "</style>\n",
              "<table border=\"1\" class=\"dataframe\">\n",
              "  <thead>\n",
              "    <tr style=\"text-align: right;\">\n",
              "      <th></th>\n",
              "      <th>Close</th>\n",
              "      <th>Prediction</th>\n",
              "    </tr>\n",
              "  </thead>\n",
              "  <tbody>\n",
              "    <tr>\n",
              "      <th>249</th>\n",
              "      <td>2293.629883</td>\n",
              "      <td>NaN</td>\n",
              "    </tr>\n",
              "    <tr>\n",
              "      <th>250</th>\n",
              "      <td>2293.290039</td>\n",
              "      <td>NaN</td>\n",
              "    </tr>\n",
              "    <tr>\n",
              "      <th>251</th>\n",
              "      <td>2267.919922</td>\n",
              "      <td>NaN</td>\n",
              "    </tr>\n",
              "    <tr>\n",
              "      <th>252</th>\n",
              "      <td>2323.159912</td>\n",
              "      <td>NaN</td>\n",
              "    </tr>\n",
              "  </tbody>\n",
              "</table>\n",
              "</div>"
            ],
            "text/plain": [
              "           Close  Prediction\n",
              "249  2293.629883         NaN\n",
              "250  2293.290039         NaN\n",
              "251  2267.919922         NaN\n",
              "252  2323.159912         NaN"
            ]
          },
          "metadata": {
            "tags": []
          },
          "execution_count": 95
        }
      ]
    },
    {
      "cell_type": "code",
      "metadata": {
        "colab": {
          "base_uri": "https://localhost:8080/"
        },
        "id": "hD81XVbuONBe",
        "outputId": "371c1aac-89c2-4521-a318-e620677de03c"
      },
      "source": [
        "#create the future data set (X) and convert it to a numpy array and remove the last 'x' rows/days\n",
        "X = np.array(df.drop(['Prediction'], 1))[:-future_days]\n",
        "print(X)"
      ],
      "execution_count": 96,
      "outputs": [
        {
          "output_type": "stream",
          "text": [
            "[[1276.310059]\n",
            " [1279.310059]\n",
            " [1275.880005]\n",
            " [1233.670044]\n",
            " [1341.47998 ]\n",
            " [1348.660034]\n",
            " [1320.609985]\n",
            " [1326.800049]\n",
            " [1351.109985]\n",
            " [1347.300049]\n",
            " [1372.560059]\n",
            " [1388.369995]\n",
            " [1403.26001 ]\n",
            " [1375.73999 ]\n",
            " [1349.329956]\n",
            " [1356.130005]\n",
            " [1373.189941]\n",
            " [1383.939941]\n",
            " [1373.484985]\n",
            " [1406.719971]\n",
            " [1402.800049]\n",
            " [1410.420044]\n",
            " [1417.02002 ]\n",
            " [1417.839966]\n",
            " [1416.72998 ]\n",
            " [1428.920044]\n",
            " [1431.819946]\n",
            " [1439.219971]\n",
            " [1436.380005]\n",
            " [1412.180054]\n",
            " [1438.390015]\n",
            " [1446.609985]\n",
            " [1456.160034]\n",
            " [1465.849976]\n",
            " [1403.839966]\n",
            " [1413.180054]\n",
            " [1419.849976]\n",
            " [1442.719971]\n",
            " [1451.119995]\n",
            " [1435.959961]\n",
            " [1431.719971]\n",
            " [1451.859985]\n",
            " [1464.410034]\n",
            " [1431.969971]\n",
            " [1441.329956]\n",
            " [1359.900024]\n",
            " [1394.969971]\n",
            " [1413.609985]\n",
            " [1438.040039]\n",
            " [1464.699951]\n",
            " [1495.699951]\n",
            " [1485.180054]\n",
            " [1496.      ]\n",
            " [1510.98999 ]\n",
            " [1541.73999 ]\n",
            " [1511.339966]\n",
            " [1520.579956]\n",
            " [1513.640015]\n",
            " [1518.      ]\n",
            " [1515.550049]\n",
            " [1565.719971]\n",
            " [1558.420044]\n",
            " [1568.48999 ]\n",
            " [1515.680054]\n",
            " [1511.869995]\n",
            " [1530.199951]\n",
            " [1500.339966]\n",
            " [1522.02002 ]\n",
            " [1531.449951]\n",
            " [1482.959961]\n",
            " [1474.449951]\n",
            " [1464.969971]\n",
            " [1473.609985]\n",
            " [1500.099976]\n",
            " [1494.48999 ]\n",
            " [1496.099976]\n",
            " [1480.319946]\n",
            " [1506.619995]\n",
            " [1518.449951]\n",
            " [1507.72998 ]\n",
            " [1517.97998 ]\n",
            " [1558.599976]\n",
            " [1547.530029]\n",
            " [1581.75    ]\n",
            " [1580.420044]\n",
            " [1588.199951]\n",
            " [1608.219971]\n",
            " [1652.380005]\n",
            " [1634.329956]\n",
            " [1644.410034]\n",
            " [1634.180054]\n",
            " [1660.709961]\n",
            " [1728.280029]\n",
            " [1641.839966]\n",
            " [1591.040039]\n",
            " [1532.390015]\n",
            " [1556.959961]\n",
            " [1532.02002 ]\n",
            " [1520.719971]\n",
            " [1519.280029]\n",
            " [1541.439941]\n",
            " [1520.900024]\n",
            " [1495.530029]\n",
            " [1459.98999 ]\n",
            " [1431.160034]\n",
            " [1465.459961]\n",
            " [1415.209961]\n",
            " [1428.290039]\n",
            " [1444.959961]\n",
            " [1464.52002 ]\n",
            " [1469.329956]\n",
            " [1469.599976]\n",
            " [1490.089966]\n",
            " [1458.420044]\n",
            " [1486.02002 ]\n",
            " [1453.439941]\n",
            " [1460.290039]\n",
            " [1485.930054]\n",
            " [1515.219971]\n",
            " [1569.150024]\n",
            " [1571.680054]\n",
            " [1568.079956]\n",
            " [1559.130005]\n",
            " [1573.01001 ]\n",
            " [1534.609985]\n",
            " [1555.930054]\n",
            " [1593.310059]\n",
            " [1615.329956]\n",
            " [1641.      ]\n",
            " [1590.449951]\n",
            " [1604.26001 ]\n",
            " [1516.619995]\n",
            " [1567.23999 ]\n",
            " [1621.01001 ]\n",
            " [1626.030029]\n",
            " [1650.209961]\n",
            " [1749.130005]\n",
            " [1763.369995]\n",
            " [1761.75    ]\n",
            " [1763.      ]\n",
            " [1740.390015]\n",
            " [1752.709961]\n",
            " [1749.839966]\n",
            " [1777.02002 ]\n",
            " [1781.380005]\n",
            " [1770.150024]\n",
            " [1746.780029]\n",
            " [1763.920044]\n",
            " [1742.189941]\n",
            " [1734.859985]\n",
            " [1768.880005]\n",
            " [1771.430054]\n",
            " [1793.189941]\n",
            " [1760.73999 ]\n",
            " [1798.099976]\n",
            " [1827.949951]\n",
            " [1826.77002 ]\n",
            " [1827.98999 ]\n",
            " [1819.47998 ]\n",
            " [1818.550049]\n",
            " [1784.130005]\n",
            " [1775.329956]\n",
            " [1781.77002 ]\n",
            " [1760.060059]\n",
            " [1767.77002 ]\n",
            " [1763.      ]\n",
            " [1747.900024]\n",
            " [1731.01001 ]\n",
            " [1739.369995]\n",
            " [1723.5     ]\n",
            " [1732.380005]\n",
            " [1738.849976]\n",
            " [1776.089966]\n",
            " [1758.719971]\n",
            " [1739.52002 ]\n",
            " [1751.880005]\n",
            " [1728.23999 ]\n",
            " [1740.920044]\n",
            " [1735.290039]\n",
            " [1787.25    ]\n",
            " [1807.209961]\n",
            " [1766.719971]\n",
            " [1746.550049]\n",
            " [1754.400024]\n",
            " [1740.180054]\n",
            " [1736.189941]\n",
            " [1790.859985]\n",
            " [1886.900024]\n",
            " [1891.25    ]\n",
            " [1901.050049]\n",
            " [1899.400024]\n",
            " [1917.23999 ]\n",
            " [1830.790039]\n",
            " [1863.109985]\n",
            " [1835.73999 ]\n",
            " [1901.349976]\n",
            " [1927.51001 ]\n",
            " [2070.070068]\n",
            " [2062.370117]\n",
            " [2098.      ]\n",
            " [2092.909912]\n",
            " [2083.51001 ]\n",
            " [2095.379883]\n",
            " [2095.889893]\n",
            " [2104.110107]\n",
            " [2121.899902]\n",
            " [2128.310059]\n",
            " [2117.199951]\n",
            " [2101.139893]\n",
            " [2064.879883]\n",
            " [2070.860107]\n",
            " [2095.169922]\n",
            " [2031.359985]\n",
            " [2036.859985]\n",
            " [2081.51001 ]\n",
            " [2075.840088]\n",
            " [2026.709961]\n",
            " [2049.090088]\n",
            " [2108.540039]\n",
            " [2024.170044]\n",
            " [2052.699951]\n",
            " [2055.030029]\n",
            " [2114.77002 ]\n",
            " [2061.919922]\n",
            " [2066.48999 ]\n",
            " [2092.52002 ]\n",
            " [2091.080078]\n",
            " [2036.219971]]\n"
          ],
          "name": "stdout"
        }
      ]
    },
    {
      "cell_type": "code",
      "metadata": {
        "colab": {
          "base_uri": "https://localhost:8080/"
        },
        "id": "eJN3mGsdP_Ik",
        "outputId": "ee5f450d-de08-4b5a-c156-7b28f7d8c872"
      },
      "source": [
        "#create the target data set (y) and convert it to a numpy array and get all of the target values except the last 'x' rows/days\n",
        "y = np.array(df['Prediction'])[:-future_days]\n",
        "print(y)\n"
      ],
      "execution_count": 97,
      "outputs": [
        {
          "output_type": "stream",
          "text": [
            "[1428.920044 1431.819946 1439.219971 1436.380005 1412.180054 1438.390015\n",
            " 1446.609985 1456.160034 1465.849976 1403.839966 1413.180054 1419.849976\n",
            " 1442.719971 1451.119995 1435.959961 1431.719971 1451.859985 1464.410034\n",
            " 1431.969971 1441.329956 1359.900024 1394.969971 1413.609985 1438.040039\n",
            " 1464.699951 1495.699951 1485.180054 1496.       1510.98999  1541.73999\n",
            " 1511.339966 1520.579956 1513.640015 1518.       1515.550049 1565.719971\n",
            " 1558.420044 1568.48999  1515.680054 1511.869995 1530.199951 1500.339966\n",
            " 1522.02002  1531.449951 1482.959961 1474.449951 1464.969971 1473.609985\n",
            " 1500.099976 1494.48999  1496.099976 1480.319946 1506.619995 1518.449951\n",
            " 1507.72998  1517.97998  1558.599976 1547.530029 1581.75     1580.420044\n",
            " 1588.199951 1608.219971 1652.380005 1634.329956 1644.410034 1634.180054\n",
            " 1660.709961 1728.280029 1641.839966 1591.040039 1532.390015 1556.959961\n",
            " 1532.02002  1520.719971 1519.280029 1541.439941 1520.900024 1495.530029\n",
            " 1459.98999  1431.160034 1465.459961 1415.209961 1428.290039 1444.959961\n",
            " 1464.52002  1469.329956 1469.599976 1490.089966 1458.420044 1486.02002\n",
            " 1453.439941 1460.290039 1485.930054 1515.219971 1569.150024 1571.680054\n",
            " 1568.079956 1559.130005 1573.01001  1534.609985 1555.930054 1593.310059\n",
            " 1615.329956 1641.       1590.449951 1604.26001  1516.619995 1567.23999\n",
            " 1621.01001  1626.030029 1650.209961 1749.130005 1763.369995 1761.75\n",
            " 1763.       1740.390015 1752.709961 1749.839966 1777.02002  1781.380005\n",
            " 1770.150024 1746.780029 1763.920044 1742.189941 1734.859985 1768.880005\n",
            " 1771.430054 1793.189941 1760.73999  1798.099976 1827.949951 1826.77002\n",
            " 1827.98999  1819.47998  1818.550049 1784.130005 1775.329956 1781.77002\n",
            " 1760.060059 1767.77002  1763.       1747.900024 1731.01001  1739.369995\n",
            " 1723.5      1732.380005 1738.849976 1776.089966 1758.719971 1739.52002\n",
            " 1751.880005 1728.23999  1740.920044 1735.290039 1787.25     1807.209961\n",
            " 1766.719971 1746.550049 1754.400024 1740.180054 1736.189941 1790.859985\n",
            " 1886.900024 1891.25     1901.050049 1899.400024 1917.23999  1830.790039\n",
            " 1863.109985 1835.73999  1901.349976 1927.51001  2070.070068 2062.370117\n",
            " 2098.       2092.909912 2083.51001  2095.379883 2095.889893 2104.110107\n",
            " 2121.899902 2128.310059 2117.199951 2101.139893 2064.879883 2070.860107\n",
            " 2095.169922 2031.359985 2036.859985 2081.51001  2075.840088 2026.709961\n",
            " 2049.090088 2108.540039 2024.170044 2052.699951 2055.030029 2114.77002\n",
            " 2061.919922 2066.48999  2092.52002  2091.080078 2036.219971 2043.199951\n",
            " 2038.589966 2052.959961 2045.060059 2044.359985 2035.550049 2055.949951\n",
            " 2055.540039 2068.629883 2137.75     2225.550049 2224.75     2249.679932\n",
            " 2265.439941 2285.879883 2254.790039 2267.27002  2254.840088 2296.659912\n",
            " 2297.76001  2302.399902 2293.629883 2293.290039 2267.919922 2323.159912]\n"
          ],
          "name": "stdout"
        }
      ]
    },
    {
      "cell_type": "code",
      "metadata": {
        "id": "zG23r-5ZQobG"
      },
      "source": [
        "#split the data intop 75% - training and 25% - testing\n",
        "x_train, x_test, y_train, y_test = train_test_split(X, y, test_size = 0.25)"
      ],
      "execution_count": 98,
      "outputs": []
    },
    {
      "cell_type": "code",
      "metadata": {
        "id": "VYqOC7PYQ4Wd"
      },
      "source": [
        "#create the models\n",
        "#create the decision tree regressor model\n",
        "tree = DecisionTreeRegressor().fit(x_train, y_train)\n",
        "#create the linear regression model\n",
        "lr = LinearRegression().fit(x_train, y_train)"
      ],
      "execution_count": 99,
      "outputs": []
    },
    {
      "cell_type": "code",
      "metadata": {
        "colab": {
          "base_uri": "https://localhost:8080/"
        },
        "id": "8ivP4BqHRJsb",
        "outputId": "c9831bf8-3210-494a-c558-68cb81d44bd8"
      },
      "source": [
        "#get the last 'x' rows of the feature data set\n",
        "x_future = df.drop(['Prediction'], 1)[:-future_days]\n",
        "x_future = x_future.tail(future_days)\n",
        "x_future = np.array(x_future)\n",
        "x_future"
      ],
      "execution_count": 100,
      "outputs": [
        {
          "output_type": "execute_result",
          "data": {
            "text/plain": [
              "array([[2095.889893],\n",
              "       [2104.110107],\n",
              "       [2121.899902],\n",
              "       [2128.310059],\n",
              "       [2117.199951],\n",
              "       [2101.139893],\n",
              "       [2064.879883],\n",
              "       [2070.860107],\n",
              "       [2095.169922],\n",
              "       [2031.359985],\n",
              "       [2036.859985],\n",
              "       [2081.51001 ],\n",
              "       [2075.840088],\n",
              "       [2026.709961],\n",
              "       [2049.090088],\n",
              "       [2108.540039],\n",
              "       [2024.170044],\n",
              "       [2052.699951],\n",
              "       [2055.030029],\n",
              "       [2114.77002 ],\n",
              "       [2061.919922],\n",
              "       [2066.48999 ],\n",
              "       [2092.52002 ],\n",
              "       [2091.080078],\n",
              "       [2036.219971]])"
            ]
          },
          "metadata": {
            "tags": []
          },
          "execution_count": 100
        }
      ]
    },
    {
      "cell_type": "code",
      "metadata": {
        "colab": {
          "base_uri": "https://localhost:8080/"
        },
        "id": "bCMfNGDSSXxO",
        "outputId": "4e8fa11a-8a73-4f89-85a2-b735ecc238e6"
      },
      "source": [
        "#show the model tree prediction\n",
        "tree_prediction = tree.predict(x_future)\n",
        "print(tree_prediction)\n",
        "print()\n",
        "#show the model linear regression prediction\n",
        "lr_prediction = lr.predict(x_future)\n",
        "print(lr_prediction)"
      ],
      "execution_count": 101,
      "outputs": [
        {
          "output_type": "stream",
          "text": [
            "[2043.199951 2038.589966 2052.959961 2045.060059 2044.359985 2035.550049\n",
            " 2055.949951 2055.540039 2068.629883 2323.159912 2225.550049 2091.080078\n",
            " 2249.679932 2323.159912 2285.879883 2038.589966 2323.159912 2254.840088\n",
            " 2296.659912 2297.76001  2302.399902 2293.629883 2092.52002  2267.919922\n",
            " 2323.159912]\n",
            "\n",
            "[2186.54280254 2194.61316074 2212.07864495 2218.37194376 2207.4643748\n",
            " 2191.69709421 2156.09810996 2161.96931352 2185.83595673 2123.18928502\n",
            " 2128.58901915 2172.4250671  2166.85850868 2118.6240317  2140.59616543\n",
            " 2198.96233437 2116.13041779 2144.14022005 2146.42782036 2205.07874183\n",
            " 2153.19210951 2157.67886445 2183.23436286 2181.82067124 2127.96067271]\n"
          ],
          "name": "stdout"
        }
      ]
    },
    {
      "cell_type": "code",
      "metadata": {
        "colab": {
          "base_uri": "https://localhost:8080/",
          "height": 615
        },
        "id": "4RKgcaCcTvEc",
        "outputId": "4d69ebe6-735c-458d-b2f8-d09e0cee7353"
      },
      "source": [
        "#visualise the data\n",
        "predictions = lr_prediction\n",
        "valid = df[X.shape[0]:]\n",
        "valid['Predictions'] = predictions\n",
        "plt.figure(figsize=(16,8))\n",
        "plt.title('Google')\n",
        "plt.xlabel('Days')\n",
        "plt.ylabel('Close Price (USD)')\n",
        "plt.plot(df['Close'])\n",
        "plt.plot(valid[['Close', 'Predictions']])\n",
        "plt.legend(['Orig', 'Val', 'Pred'])\n",
        "plt.show() "
      ],
      "execution_count": 103,
      "outputs": [
        {
          "output_type": "stream",
          "text": [
            "/usr/local/lib/python3.7/dist-packages/ipykernel_launcher.py:4: SettingWithCopyWarning: \n",
            "A value is trying to be set on a copy of a slice from a DataFrame.\n",
            "Try using .loc[row_indexer,col_indexer] = value instead\n",
            "\n",
            "See the caveats in the documentation: https://pandas.pydata.org/pandas-docs/stable/user_guide/indexing.html#returning-a-view-versus-a-copy\n",
            "  after removing the cwd from sys.path.\n"
          ],
          "name": "stderr"
        },
        {
          "output_type": "display_data",
          "data": {
            "image/png": "[encoded data removed]",
            "text/plain": [
              "<Figure size 1152x576 with 1 Axes>"
            ]
          },
          "metadata": {
            "tags": [],
            "needs_background": "light"
          }
        }
      ]
    },
    {
      "cell_type": "code",
      "metadata": {
        "id": "qztNw7VhVRuN"
      },
      "source": [
        "# RED - ACTUAL\n",
        "# PURPLE - PREDICTION"
      ],
      "execution_count": null,
      "outputs": []
    }
  ]
}